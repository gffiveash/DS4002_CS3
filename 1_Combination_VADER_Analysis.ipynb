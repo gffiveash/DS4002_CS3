{
  "nbformat": 4,
  "nbformat_minor": 0,
  "metadata": {
    "colab": {
      "provenance": [],
      "include_colab_link": true
    },
    "kernelspec": {
      "name": "python3",
      "display_name": "Python 3"
    },
    "language_info": {
      "name": "python"
    }
  },
  "cells": [
    {
      "cell_type": "markdown",
      "metadata": {
        "id": "view-in-github",
        "colab_type": "text"
      },
      "source": [
        "<a href=\"https://colab.research.google.com/github/gffiveash/DS4002_CS3/blob/main/1_Combination_VADER_Analysis.ipynb\" target=\"_parent\"><img src=\"https://colab.research.google.com/assets/colab-badge.svg\" alt=\"Open In Colab\"/></a>"
      ]
    },
    {
      "cell_type": "markdown",
      "source": [
        "#This script combines the 18 original CSV files (by makeup product) from Google Drive folder into one CSV, performs sentiment analysis on reviews using python's sentiment analysis package, VADER, and adds a column with these sentiment values to create our finalized dataset, called combined_clean_data.csv."
      ],
      "metadata": {
        "id": "E3roZvTByB3V"
      }
    },
    {
      "cell_type": "code",
      "source": [
        "# Connect to GitHub\n",
        "! git clone https://github.com/gffiveash/DS4002_CS3"
      ],
      "metadata": {
        "colab": {
          "base_uri": "https://localhost:8080/"
        },
        "id": "rulbFoXPasGD",
        "outputId": "eabd3fb4-7e75-4bcd-e4a4-a50c3f7c6ace"
      },
      "execution_count": null,
      "outputs": [
        {
          "output_type": "stream",
          "name": "stdout",
          "text": [
            "fatal: destination path 'DS4002' already exists and is not an empty directory.\n"
          ]
        }
      ]
    },
    {
      "cell_type": "code",
      "execution_count": null,
      "metadata": {
        "id": "m7sviS7kvAny"
      },
      "outputs": [],
      "source": [
        "# Import necessary packages\n",
        "import os\n",
        "import pandas as pd\n",
        "import pandas as pd\n",
        "from google.colab import files"
      ]
    },
    {
      "cell_type": "code",
      "source": [
        "# Combining all 18 CSV files, by makeup product, into one CSV\n",
        "#Directory containing the CSV files\n",
        "directory = 'DS4002/DATA/Cleaned Individual Data'\n",
        "\n",
        "#Loop through all files in the directory\n",
        "dataframes = []\n",
        "for filename in os.listdir(directory):\n",
        "    if filename.endswith('.csv'):\n",
        "        file_path = os.path.join(directory, filename)\n",
        "        df = pd.read_csv(file_path)\n",
        "        dataframes.append(df)\n",
        "\n",
        "#Combine all dataframes into one\n",
        "combined_df = pd.concat(dataframes, ignore_index=True)\n",
        "\n",
        "print('CSV files combined successfully!')"
      ],
      "metadata": {
        "id": "tSQ94p2vPmp2",
        "colab": {
          "base_uri": "https://localhost:8080/"
        },
        "outputId": "ac4f84c0-4857-466f-ada4-4897e88d9a9b"
      },
      "execution_count": null,
      "outputs": [
        {
          "output_type": "stream",
          "name": "stdout",
          "text": [
            "CSV files combined successfully!\n"
          ]
        }
      ]
    },
    {
      "cell_type": "code",
      "source": [
        "# Installing the VADER sentiment analysis package\n",
        "!pip install vaderSentiment"
      ],
      "metadata": {
        "colab": {
          "base_uri": "https://localhost:8080/"
        },
        "id": "m5-1WVMlCV3y",
        "outputId": "9bde1078-83f1-4889-cf34-82206f38922b"
      },
      "execution_count": null,
      "outputs": [
        {
          "output_type": "stream",
          "name": "stdout",
          "text": [
            "Requirement already satisfied: vaderSentiment in /usr/local/lib/python3.11/dist-packages (3.3.2)\n",
            "Requirement already satisfied: requests in /usr/local/lib/python3.11/dist-packages (from vaderSentiment) (2.32.3)\n",
            "Requirement already satisfied: charset-normalizer<4,>=2 in /usr/local/lib/python3.11/dist-packages (from requests->vaderSentiment) (3.4.1)\n",
            "Requirement already satisfied: idna<4,>=2.5 in /usr/local/lib/python3.11/dist-packages (from requests->vaderSentiment) (3.10)\n",
            "Requirement already satisfied: urllib3<3,>=1.21.1 in /usr/local/lib/python3.11/dist-packages (from requests->vaderSentiment) (2.3.0)\n",
            "Requirement already satisfied: certifi>=2017.4.17 in /usr/local/lib/python3.11/dist-packages (from requests->vaderSentiment) (2025.1.31)\n"
          ]
        }
      ]
    },
    {
      "cell_type": "code",
      "source": [
        "# Install necessary packages\n",
        "from vaderSentiment.vaderSentiment import SentimentIntensityAnalyzer"
      ],
      "metadata": {
        "id": "xVdabyT4Qn1f"
      },
      "execution_count": null,
      "outputs": []
    },
    {
      "cell_type": "code",
      "source": [
        "# Performing sentiment analysis\n",
        "analyzer = SentimentIntensityAnalyzer()\n",
        "def get_sentiment_scores(text):  # Creating a function to get sentiment scores\n",
        "    scores = analyzer.polarity_scores(str(text))\n",
        "    print(\"Positive Sentiment Score:\", scores['pos'])\n",
        "    print(\"Negative Sentiment Score:\", scores['neg'])\n",
        "    print(\"Neutral Sentiment Score:\", scores['neu'])\n",
        "    print(\"Compound Sentiment Score:\", scores['compound'])\n",
        "    return scores['pos'], scores['neg'], scores['neu'], scores['compound']\n",
        "\n",
        "\n",
        "#Adding new columns to our dataset\n",
        "combined_df[['PositiveScore', 'NegativeScore', 'NeutralScore', 'CompoundScore']] = combined_df['ReviewText'].apply(get_sentiment_scores).apply(pd.Series)\n",
        "print(combined_df.head())"
      ],
      "metadata": {
        "id": "AN8t4wGQBu3o"
      },
      "execution_count": null,
      "outputs": []
    },
    {
      "cell_type": "code",
      "source": [
        "combined_df.head()"
      ],
      "metadata": {
        "colab": {
          "base_uri": "https://localhost:8080/",
          "height": 293
        },
        "id": "KeK4Vki0bCbb",
        "outputId": "eea072ac-6b1d-451a-b652-11059c87cf60"
      },
      "execution_count": null,
      "outputs": [
        {
          "output_type": "execute_result",
          "data": {
            "text/plain": [
              "                               Title          UserID  \\\n",
              "0                     Love love love      CookieAnne   \n",
              "1                                NaN  morgansaffelle   \n",
              "2                 The best lip gloss      LizzoRizzo   \n",
              "3  Fruity Lip Gloss from Early 2000s      JennElise7   \n",
              "4             Good but bad packaging       Lilypad13   \n",
              "\n",
              "                                          ReviewText         Date  \\\n",
              "0  Love this lip oil! Very hydrating and the wate...  05 Feb 2025   \n",
              "1  This is one of the best lip oils I have used i...  05 Feb 2025   \n",
              "2  This is the best lip gloss I have ever had it ...  03 Feb 2025   \n",
              "3  This product reminds me of the fruity lip glos...  03 Feb 2025   \n",
              "4  I like the product a lot but Fenty needs to wo...  31 Jan 2025   \n",
              "\n",
              "          Brand Product CelebrityBranded  PositiveScore  NegativeScore  \\\n",
              "0  Fenty Beauty     Lip              Yes          0.143          0.000   \n",
              "1  Fenty Beauty     Lip              Yes          0.268          0.000   \n",
              "2  Fenty Beauty     Lip              Yes          0.219          0.000   \n",
              "3  Fenty Beauty     Lip              Yes          0.113          0.022   \n",
              "4  Fenty Beauty     Lip              Yes          0.035          0.000   \n",
              "\n",
              "   NeutralScore  CompoundScore  \n",
              "0         0.857         0.6696  \n",
              "1         0.732         0.8687  \n",
              "2         0.781         0.6696  \n",
              "3         0.866         0.9063  \n",
              "4         0.965         0.1901  "
            ],
            "text/html": [
              "\n",
              "  <div id=\"df-54d40afb-a27b-475f-8677-b904b56bda0f\" class=\"colab-df-container\">\n",
              "    <div>\n",
              "<style scoped>\n",
              "    .dataframe tbody tr th:only-of-type {\n",
              "        vertical-align: middle;\n",
              "    }\n",
              "\n",
              "    .dataframe tbody tr th {\n",
              "        vertical-align: top;\n",
              "    }\n",
              "\n",
              "    .dataframe thead th {\n",
              "        text-align: right;\n",
              "    }\n",
              "</style>\n",
              "<table border=\"1\" class=\"dataframe\">\n",
              "  <thead>\n",
              "    <tr style=\"text-align: right;\">\n",
              "      <th></th>\n",
              "      <th>Title</th>\n",
              "      <th>UserID</th>\n",
              "      <th>ReviewText</th>\n",
              "      <th>Date</th>\n",
              "      <th>Brand</th>\n",
              "      <th>Product</th>\n",
              "      <th>CelebrityBranded</th>\n",
              "      <th>PositiveScore</th>\n",
              "      <th>NegativeScore</th>\n",
              "      <th>NeutralScore</th>\n",
              "      <th>CompoundScore</th>\n",
              "    </tr>\n",
              "  </thead>\n",
              "  <tbody>\n",
              "    <tr>\n",
              "      <th>0</th>\n",
              "      <td>Love love love</td>\n",
              "      <td>CookieAnne</td>\n",
              "      <td>Love this lip oil! Very hydrating and the wate...</td>\n",
              "      <td>05 Feb 2025</td>\n",
              "      <td>Fenty Beauty</td>\n",
              "      <td>Lip</td>\n",
              "      <td>Yes</td>\n",
              "      <td>0.143</td>\n",
              "      <td>0.000</td>\n",
              "      <td>0.857</td>\n",
              "      <td>0.6696</td>\n",
              "    </tr>\n",
              "    <tr>\n",
              "      <th>1</th>\n",
              "      <td>NaN</td>\n",
              "      <td>morgansaffelle</td>\n",
              "      <td>This is one of the best lip oils I have used i...</td>\n",
              "      <td>05 Feb 2025</td>\n",
              "      <td>Fenty Beauty</td>\n",
              "      <td>Lip</td>\n",
              "      <td>Yes</td>\n",
              "      <td>0.268</td>\n",
              "      <td>0.000</td>\n",
              "      <td>0.732</td>\n",
              "      <td>0.8687</td>\n",
              "    </tr>\n",
              "    <tr>\n",
              "      <th>2</th>\n",
              "      <td>The best lip gloss</td>\n",
              "      <td>LizzoRizzo</td>\n",
              "      <td>This is the best lip gloss I have ever had it ...</td>\n",
              "      <td>03 Feb 2025</td>\n",
              "      <td>Fenty Beauty</td>\n",
              "      <td>Lip</td>\n",
              "      <td>Yes</td>\n",
              "      <td>0.219</td>\n",
              "      <td>0.000</td>\n",
              "      <td>0.781</td>\n",
              "      <td>0.6696</td>\n",
              "    </tr>\n",
              "    <tr>\n",
              "      <th>3</th>\n",
              "      <td>Fruity Lip Gloss from Early 2000s</td>\n",
              "      <td>JennElise7</td>\n",
              "      <td>This product reminds me of the fruity lip glos...</td>\n",
              "      <td>03 Feb 2025</td>\n",
              "      <td>Fenty Beauty</td>\n",
              "      <td>Lip</td>\n",
              "      <td>Yes</td>\n",
              "      <td>0.113</td>\n",
              "      <td>0.022</td>\n",
              "      <td>0.866</td>\n",
              "      <td>0.9063</td>\n",
              "    </tr>\n",
              "    <tr>\n",
              "      <th>4</th>\n",
              "      <td>Good but bad packaging</td>\n",
              "      <td>Lilypad13</td>\n",
              "      <td>I like the product a lot but Fenty needs to wo...</td>\n",
              "      <td>31 Jan 2025</td>\n",
              "      <td>Fenty Beauty</td>\n",
              "      <td>Lip</td>\n",
              "      <td>Yes</td>\n",
              "      <td>0.035</td>\n",
              "      <td>0.000</td>\n",
              "      <td>0.965</td>\n",
              "      <td>0.1901</td>\n",
              "    </tr>\n",
              "  </tbody>\n",
              "</table>\n",
              "</div>\n",
              "    <div class=\"colab-df-buttons\">\n",
              "\n",
              "  <div class=\"colab-df-container\">\n",
              "    <button class=\"colab-df-convert\" onclick=\"convertToInteractive('df-54d40afb-a27b-475f-8677-b904b56bda0f')\"\n",
              "            title=\"Convert this dataframe to an interactive table.\"\n",
              "            style=\"display:none;\">\n",
              "\n",
              "  <svg xmlns=\"http://www.w3.org/2000/svg\" height=\"24px\" viewBox=\"0 -960 960 960\">\n",
              "    <path d=\"M120-120v-720h720v720H120Zm60-500h600v-160H180v160Zm220 220h160v-160H400v160Zm0 220h160v-160H400v160ZM180-400h160v-160H180v160Zm440 0h160v-160H620v160ZM180-180h160v-160H180v160Zm440 0h160v-160H620v160Z\"/>\n",
              "  </svg>\n",
              "    </button>\n",
              "\n",
              "  <style>\n",
              "    .colab-df-container {\n",
              "      display:flex;\n",
              "      gap: 12px;\n",
              "    }\n",
              "\n",
              "    .colab-df-convert {\n",
              "      background-color: #E8F0FE;\n",
              "      border: none;\n",
              "      border-radius: 50%;\n",
              "      cursor: pointer;\n",
              "      display: none;\n",
              "      fill: #1967D2;\n",
              "      height: 32px;\n",
              "      padding: 0 0 0 0;\n",
              "      width: 32px;\n",
              "    }\n",
              "\n",
              "    .colab-df-convert:hover {\n",
              "      background-color: #E2EBFA;\n",
              "      box-shadow: 0px 1px 2px rgba(60, 64, 67, 0.3), 0px 1px 3px 1px rgba(60, 64, 67, 0.15);\n",
              "      fill: #174EA6;\n",
              "    }\n",
              "\n",
              "    .colab-df-buttons div {\n",
              "      margin-bottom: 4px;\n",
              "    }\n",
              "\n",
              "    [theme=dark] .colab-df-convert {\n",
              "      background-color: #3B4455;\n",
              "      fill: #D2E3FC;\n",
              "    }\n",
              "\n",
              "    [theme=dark] .colab-df-convert:hover {\n",
              "      background-color: #434B5C;\n",
              "      box-shadow: 0px 1px 3px 1px rgba(0, 0, 0, 0.15);\n",
              "      filter: drop-shadow(0px 1px 2px rgba(0, 0, 0, 0.3));\n",
              "      fill: #FFFFFF;\n",
              "    }\n",
              "  </style>\n",
              "\n",
              "    <script>\n",
              "      const buttonEl =\n",
              "        document.querySelector('#df-54d40afb-a27b-475f-8677-b904b56bda0f button.colab-df-convert');\n",
              "      buttonEl.style.display =\n",
              "        google.colab.kernel.accessAllowed ? 'block' : 'none';\n",
              "\n",
              "      async function convertToInteractive(key) {\n",
              "        const element = document.querySelector('#df-54d40afb-a27b-475f-8677-b904b56bda0f');\n",
              "        const dataTable =\n",
              "          await google.colab.kernel.invokeFunction('convertToInteractive',\n",
              "                                                    [key], {});\n",
              "        if (!dataTable) return;\n",
              "\n",
              "        const docLinkHtml = 'Like what you see? Visit the ' +\n",
              "          '<a target=\"_blank\" href=https://colab.research.google.com/notebooks/data_table.ipynb>data table notebook</a>'\n",
              "          + ' to learn more about interactive tables.';\n",
              "        element.innerHTML = '';\n",
              "        dataTable['output_type'] = 'display_data';\n",
              "        await google.colab.output.renderOutput(dataTable, element);\n",
              "        const docLink = document.createElement('div');\n",
              "        docLink.innerHTML = docLinkHtml;\n",
              "        element.appendChild(docLink);\n",
              "      }\n",
              "    </script>\n",
              "  </div>\n",
              "\n",
              "\n",
              "<div id=\"df-0ae8ab40-6683-40bd-917c-18cf8c3a044c\">\n",
              "  <button class=\"colab-df-quickchart\" onclick=\"quickchart('df-0ae8ab40-6683-40bd-917c-18cf8c3a044c')\"\n",
              "            title=\"Suggest charts\"\n",
              "            style=\"display:none;\">\n",
              "\n",
              "<svg xmlns=\"http://www.w3.org/2000/svg\" height=\"24px\"viewBox=\"0 0 24 24\"\n",
              "     width=\"24px\">\n",
              "    <g>\n",
              "        <path d=\"M19 3H5c-1.1 0-2 .9-2 2v14c0 1.1.9 2 2 2h14c1.1 0 2-.9 2-2V5c0-1.1-.9-2-2-2zM9 17H7v-7h2v7zm4 0h-2V7h2v10zm4 0h-2v-4h2v4z\"/>\n",
              "    </g>\n",
              "</svg>\n",
              "  </button>\n",
              "\n",
              "<style>\n",
              "  .colab-df-quickchart {\n",
              "      --bg-color: #E8F0FE;\n",
              "      --fill-color: #1967D2;\n",
              "      --hover-bg-color: #E2EBFA;\n",
              "      --hover-fill-color: #174EA6;\n",
              "      --disabled-fill-color: #AAA;\n",
              "      --disabled-bg-color: #DDD;\n",
              "  }\n",
              "\n",
              "  [theme=dark] .colab-df-quickchart {\n",
              "      --bg-color: #3B4455;\n",
              "      --fill-color: #D2E3FC;\n",
              "      --hover-bg-color: #434B5C;\n",
              "      --hover-fill-color: #FFFFFF;\n",
              "      --disabled-bg-color: #3B4455;\n",
              "      --disabled-fill-color: #666;\n",
              "  }\n",
              "\n",
              "  .colab-df-quickchart {\n",
              "    background-color: var(--bg-color);\n",
              "    border: none;\n",
              "    border-radius: 50%;\n",
              "    cursor: pointer;\n",
              "    display: none;\n",
              "    fill: var(--fill-color);\n",
              "    height: 32px;\n",
              "    padding: 0;\n",
              "    width: 32px;\n",
              "  }\n",
              "\n",
              "  .colab-df-quickchart:hover {\n",
              "    background-color: var(--hover-bg-color);\n",
              "    box-shadow: 0 1px 2px rgba(60, 64, 67, 0.3), 0 1px 3px 1px rgba(60, 64, 67, 0.15);\n",
              "    fill: var(--button-hover-fill-color);\n",
              "  }\n",
              "\n",
              "  .colab-df-quickchart-complete:disabled,\n",
              "  .colab-df-quickchart-complete:disabled:hover {\n",
              "    background-color: var(--disabled-bg-color);\n",
              "    fill: var(--disabled-fill-color);\n",
              "    box-shadow: none;\n",
              "  }\n",
              "\n",
              "  .colab-df-spinner {\n",
              "    border: 2px solid var(--fill-color);\n",
              "    border-color: transparent;\n",
              "    border-bottom-color: var(--fill-color);\n",
              "    animation:\n",
              "      spin 1s steps(1) infinite;\n",
              "  }\n",
              "\n",
              "  @keyframes spin {\n",
              "    0% {\n",
              "      border-color: transparent;\n",
              "      border-bottom-color: var(--fill-color);\n",
              "      border-left-color: var(--fill-color);\n",
              "    }\n",
              "    20% {\n",
              "      border-color: transparent;\n",
              "      border-left-color: var(--fill-color);\n",
              "      border-top-color: var(--fill-color);\n",
              "    }\n",
              "    30% {\n",
              "      border-color: transparent;\n",
              "      border-left-color: var(--fill-color);\n",
              "      border-top-color: var(--fill-color);\n",
              "      border-right-color: var(--fill-color);\n",
              "    }\n",
              "    40% {\n",
              "      border-color: transparent;\n",
              "      border-right-color: var(--fill-color);\n",
              "      border-top-color: var(--fill-color);\n",
              "    }\n",
              "    60% {\n",
              "      border-color: transparent;\n",
              "      border-right-color: var(--fill-color);\n",
              "    }\n",
              "    80% {\n",
              "      border-color: transparent;\n",
              "      border-right-color: var(--fill-color);\n",
              "      border-bottom-color: var(--fill-color);\n",
              "    }\n",
              "    90% {\n",
              "      border-color: transparent;\n",
              "      border-bottom-color: var(--fill-color);\n",
              "    }\n",
              "  }\n",
              "</style>\n",
              "\n",
              "  <script>\n",
              "    async function quickchart(key) {\n",
              "      const quickchartButtonEl =\n",
              "        document.querySelector('#' + key + ' button');\n",
              "      quickchartButtonEl.disabled = true;  // To prevent multiple clicks.\n",
              "      quickchartButtonEl.classList.add('colab-df-spinner');\n",
              "      try {\n",
              "        const charts = await google.colab.kernel.invokeFunction(\n",
              "            'suggestCharts', [key], {});\n",
              "      } catch (error) {\n",
              "        console.error('Error during call to suggestCharts:', error);\n",
              "      }\n",
              "      quickchartButtonEl.classList.remove('colab-df-spinner');\n",
              "      quickchartButtonEl.classList.add('colab-df-quickchart-complete');\n",
              "    }\n",
              "    (() => {\n",
              "      let quickchartButtonEl =\n",
              "        document.querySelector('#df-0ae8ab40-6683-40bd-917c-18cf8c3a044c button');\n",
              "      quickchartButtonEl.style.display =\n",
              "        google.colab.kernel.accessAllowed ? 'block' : 'none';\n",
              "    })();\n",
              "  </script>\n",
              "</div>\n",
              "\n",
              "    </div>\n",
              "  </div>\n"
            ],
            "application/vnd.google.colaboratory.intrinsic+json": {
              "type": "dataframe",
              "variable_name": "combined_df",
              "summary": "{\n  \"name\": \"combined_df\",\n  \"rows\": 28935,\n  \"fields\": [\n    {\n      \"column\": \"Title\",\n      \"properties\": {\n        \"dtype\": \"string\",\n        \"num_unique_values\": 15062,\n        \"samples\": [\n          \"Pop off\",\n          \"The wand is fabulous!\",\n          \"Volumizes, lengthens and curls my lashes very well\"\n        ],\n        \"semantic_type\": \"\",\n        \"description\": \"\"\n      }\n    },\n    {\n      \"column\": \"UserID\",\n      \"properties\": {\n        \"dtype\": \"string\",\n        \"num_unique_values\": 24331,\n        \"samples\": [\n          \"Gexenia\",\n          \"Nikkimaggard\",\n          \"1andonlyHeather\"\n        ],\n        \"semantic_type\": \"\",\n        \"description\": \"\"\n      }\n    },\n    {\n      \"column\": \"ReviewText\",\n      \"properties\": {\n        \"dtype\": \"string\",\n        \"num_unique_values\": 28759,\n        \"samples\": [\n          \"Y\\u2019ALL!!! Get outta town I love this lipgloss. It\\u2019s full, it\\u2019s poppin, and all the boys be stopping!!! No but seriously this lip gloss is everything you could want in a gloss and more. They mean it when they say non-sticky. Seriously so good.\",\n          \"This faux filler shiny non sticky lip gloss is the perfect go to for going out and an everyday essential! I love using this when I get ready and bring it in my purse everywhere I go and apply throughout the day.\",\n          \"Best lip oil I have tried. This shade (secondary) leaves the most natural, soft pinkish tint to my lips, which stains. Not too thick or thin, lasts a very long time. The only complaint I have is that it changes to a more hot pink shade after around 4 months of owning.\"\n        ],\n        \"semantic_type\": \"\",\n        \"description\": \"\"\n      }\n    },\n    {\n      \"column\": \"Date\",\n      \"properties\": {\n        \"dtype\": \"object\",\n        \"num_unique_values\": 1781,\n        \"samples\": [\n          \"29 Nov 2021\",\n          \"2 Jan 2022\",\n          \"9 Dec 2023\"\n        ],\n        \"semantic_type\": \"\",\n        \"description\": \"\"\n      }\n    },\n    {\n      \"column\": \"Brand\",\n      \"properties\": {\n        \"dtype\": \"category\",\n        \"num_unique_values\": 7,\n        \"samples\": [\n          \"Fenty Beauty\",\n          \"Anastasia\",\n          \"RareBeauty\"\n        ],\n        \"semantic_type\": \"\",\n        \"description\": \"\"\n      }\n    },\n    {\n      \"column\": \"Product\",\n      \"properties\": {\n        \"dtype\": \"category\",\n        \"num_unique_values\": 3,\n        \"samples\": [\n          \"Lip\",\n          \"Blush\",\n          \"Mascara\"\n        ],\n        \"semantic_type\": \"\",\n        \"description\": \"\"\n      }\n    },\n    {\n      \"column\": \"CelebrityBranded\",\n      \"properties\": {\n        \"dtype\": \"category\",\n        \"num_unique_values\": 2,\n        \"samples\": [\n          \"No\",\n          \"Yes\"\n        ],\n        \"semantic_type\": \"\",\n        \"description\": \"\"\n      }\n    },\n    {\n      \"column\": \"PositiveScore\",\n      \"properties\": {\n        \"dtype\": \"number\",\n        \"std\": 0.11647811727208786,\n        \"min\": 0.0,\n        \"max\": 0.895,\n        \"num_unique_values\": 652,\n        \"samples\": [\n          0.771,\n          0.346\n        ],\n        \"semantic_type\": \"\",\n        \"description\": \"\"\n      }\n    },\n    {\n      \"column\": \"NegativeScore\",\n      \"properties\": {\n        \"dtype\": \"number\",\n        \"std\": 0.05207323325686906,\n        \"min\": 0.0,\n        \"max\": 0.608,\n        \"num_unique_values\": 379,\n        \"samples\": [\n          0.337,\n          0.375\n        ],\n        \"semantic_type\": \"\",\n        \"description\": \"\"\n      }\n    },\n    {\n      \"column\": \"NeutralScore\",\n      \"properties\": {\n        \"dtype\": \"number\",\n        \"std\": 0.1077191877327805,\n        \"min\": 0.105,\n        \"max\": 1.0,\n        \"num_unique_values\": 653,\n        \"samples\": [\n          0.724,\n          0.814\n        ],\n        \"semantic_type\": \"\",\n        \"description\": \"\"\n      }\n    },\n    {\n      \"column\": \"CompoundScore\",\n      \"properties\": {\n        \"dtype\": \"number\",\n        \"std\": 0.38355772410936023,\n        \"min\": -0.9886,\n        \"max\": 0.9996,\n        \"num_unique_values\": 5452,\n        \"samples\": [\n          0.3769,\n          -0.4588\n        ],\n        \"semantic_type\": \"\",\n        \"description\": \"\"\n      }\n    }\n  ]\n}"
            }
          },
          "metadata": {},
          "execution_count": 47
        }
      ]
    },
    {
      "cell_type": "code",
      "source": [
        "#Adding a 'Sentiment' column to categorize by Positive, Neutral, and Negative\n",
        "combined_df.loc[(combined_df['CompoundScore'] >= 0.5) & (combined_df['CompoundScore'] <= 1), 'Sentiment'] = 'Positive'\n",
        "combined_df.loc[(combined_df['CompoundScore'] >= -0.5) & (combined_df['CompoundScore'] <= 0.5), 'Sentiment'] = 'Neutral'\n",
        "combined_df.loc[(combined_df['CompoundScore'] >= -1) & (combined_df['CompoundScore'] <= -0.5), 'Sentiment'] = 'Negative'"
      ],
      "metadata": {
        "id": "xI-GIVJ7IvQp"
      },
      "execution_count": null,
      "outputs": []
    },
    {
      "cell_type": "code",
      "source": [
        "#Save the combined dataframe to a new CSV file called combined_clean_data.csv\n",
        "combined_df.to_csv('combined_clean_data.csv', index=False)\n",
        "files.download('combined_clean_data.csv')"
      ],
      "metadata": {
        "colab": {
          "base_uri": "https://localhost:8080/",
          "height": 17
        },
        "id": "Gw91MkzowYK-",
        "outputId": "db328ad2-ba04-4c7a-faff-7ba6e5687f98"
      },
      "execution_count": null,
      "outputs": [
        {
          "output_type": "display_data",
          "data": {
            "text/plain": [
              "<IPython.core.display.Javascript object>"
            ],
            "application/javascript": [
              "\n",
              "    async function download(id, filename, size) {\n",
              "      if (!google.colab.kernel.accessAllowed) {\n",
              "        return;\n",
              "      }\n",
              "      const div = document.createElement('div');\n",
              "      const label = document.createElement('label');\n",
              "      label.textContent = `Downloading \"${filename}\": `;\n",
              "      div.appendChild(label);\n",
              "      const progress = document.createElement('progress');\n",
              "      progress.max = size;\n",
              "      div.appendChild(progress);\n",
              "      document.body.appendChild(div);\n",
              "\n",
              "      const buffers = [];\n",
              "      let downloaded = 0;\n",
              "\n",
              "      const channel = await google.colab.kernel.comms.open(id);\n",
              "      // Send a message to notify the kernel that we're ready.\n",
              "      channel.send({})\n",
              "\n",
              "      for await (const message of channel.messages) {\n",
              "        // Send a message to notify the kernel that we're ready.\n",
              "        channel.send({})\n",
              "        if (message.buffers) {\n",
              "          for (const buffer of message.buffers) {\n",
              "            buffers.push(buffer);\n",
              "            downloaded += buffer.byteLength;\n",
              "            progress.value = downloaded;\n",
              "          }\n",
              "        }\n",
              "      }\n",
              "      const blob = new Blob(buffers, {type: 'application/binary'});\n",
              "      const a = document.createElement('a');\n",
              "      a.href = window.URL.createObjectURL(blob);\n",
              "      a.download = filename;\n",
              "      div.appendChild(a);\n",
              "      a.click();\n",
              "      div.remove();\n",
              "    }\n",
              "  "
            ]
          },
          "metadata": {}
        },
        {
          "output_type": "display_data",
          "data": {
            "text/plain": [
              "<IPython.core.display.Javascript object>"
            ],
            "application/javascript": [
              "download(\"download_51167328-c6fd-4c27-9bd5-aafe5a089f74\", \"combined_clean_data.csv\", 10733932)"
            ]
          },
          "metadata": {}
        }
      ]
    },
    {
      "cell_type": "markdown",
      "source": [
        "##This leaves us with our finalized dataset!"
      ],
      "metadata": {
        "id": "vPjHwFKiQtV0"
      }
    },
    {
      "cell_type": "code",
      "source": [
        "df=pd.read_csv('DS4002/DATA/combined_clean_data.csv')"
      ],
      "metadata": {
        "id": "_mpAe2qnb-Kp"
      },
      "execution_count": null,
      "outputs": []
    },
    {
      "cell_type": "code",
      "source": [
        "# Testing VADER Analysis on a sample review\n",
        "print(df.loc[0, \"ReviewText\"])\n",
        "review_text = df.loc[0, \"ReviewText\"]\n",
        "get_sentiment_scores(review_text)"
      ],
      "metadata": {
        "colab": {
          "base_uri": "https://localhost:8080/"
        },
        "id": "QTnQ5tghSME1",
        "outputId": "91206bee-b51b-4794-ebe2-dac020dc011b"
      },
      "execution_count": null,
      "outputs": [
        {
          "output_type": "stream",
          "name": "stdout",
          "text": [
            "Love the color but this thing broke within the first week and I didn’t even drop it. All I did was set it down on my table while I was blending and it broke on the spot. Very sad formula unfortunately and also hard to work with as it doesn’t blend out too good without very careful technique and carefulness\n",
            "Positive Sentiment Score: 0.127\n",
            "Negative Sentiment Score: 0.264\n",
            "Neutral Sentiment Score: 0.608\n",
            "Compound Sentiment Score: -0.8827\n"
          ]
        },
        {
          "output_type": "execute_result",
          "data": {
            "text/plain": [
              "(0.127, 0.264, 0.608, -0.8827)"
            ]
          },
          "metadata": {},
          "execution_count": 50
        }
      ]
    }
  ]
}